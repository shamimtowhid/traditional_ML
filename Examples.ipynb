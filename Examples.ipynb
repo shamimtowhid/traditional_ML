{
 "cells": [
  {
   "cell_type": "markdown",
   "metadata": {},
   "source": [
    "## Introduction"
   ]
  },
  {
   "cell_type": "markdown",
   "metadata": {},
   "source": [
    "This notebook contains example projects, to show how to use traditional_ml package. This is a continuous project of mine, so I will continue to add traditional ML algorithm to this python package. I will add an example project to this notebook for every algorithm. Project lists are given below-\n",
    "\n",
    "1. [Linear Regression (with one variable)](#project1)\n",
    "2. [Linear Regression (with multiple variables)](#project2)\n",
    "3. [Logistic Regression (Without Regularization)](#project3)\n",
    "4. [Logistic Regression (With Regularization)](#project4)\n",
    "5. [Logistic Regression (Multi class classification)](#project5)\n",
    "6. [Neural Network](#project6)\n",
    "7. [Polynomial Regression](#project7)"
   ]
  },
  {
   "cell_type": "markdown",
   "metadata": {},
   "source": [
    "<a id='project1'></a>\n",
    "### 1. Linear Regression (with one variable)"
   ]
  },
  {
   "cell_type": "markdown",
   "metadata": {},
   "source": [
    "In this example, I will implement linear regression with one variable to predict profits for a food truck. The dataset is collected from very famous machine learnign course on [Coursera](https://www.coursera.org/learn/machine-learning) by Andrew Ng. I am grateful to the instructors of this course for their easy exaplanations. I highly recommend this course to anyone who is new to machine learning. \n",
    "\n",
    "Suppose you are the CEO of a restaurant franchise and are considering different cities for opening a new outlet. The chain already has trucks in various cities and you have data for profits and populations from the cities. You would like to use this data to help you select which city to expand to next.\n",
    "\n",
    "The file ex1data1.txt contains the dataset for our linear regression problem. The first column is the population of a city and the second column is the profit of a food truck in that city. A negative value for profit indicates a loss.\n",
    "\n",
    "Before starting on any task, it is often useful to understand the data by visualizing it. The following cell will load the data and visualize it with our plot function. "
   ]
  },
  {
   "cell_type": "code",
   "execution_count": 1,
   "metadata": {},
   "outputs": [],
   "source": [
    "# import necessary modules\n",
    "import pandas as pd\n",
    "import numpy as np\n",
    "\n",
    "import traditional_ml as tml"
   ]
  },
  {
   "cell_type": "code",
   "execution_count": 2,
   "metadata": {},
   "outputs": [],
   "source": [
    "data = pd.read_csv('./datasets/ex1data1.txt', header=None)\n",
    "length = len(data)"
   ]
  },
  {
   "cell_type": "code",
   "execution_count": 3,
   "metadata": {},
   "outputs": [
    {
     "data": {
      "text/html": [
       "<div>\n",
       "<style scoped>\n",
       "    .dataframe tbody tr th:only-of-type {\n",
       "        vertical-align: middle;\n",
       "    }\n",
       "\n",
       "    .dataframe tbody tr th {\n",
       "        vertical-align: top;\n",
       "    }\n",
       "\n",
       "    .dataframe thead th {\n",
       "        text-align: right;\n",
       "    }\n",
       "</style>\n",
       "<table border=\"1\" class=\"dataframe\">\n",
       "  <thead>\n",
       "    <tr style=\"text-align: right;\">\n",
       "      <th></th>\n",
       "      <th>0</th>\n",
       "      <th>1</th>\n",
       "    </tr>\n",
       "  </thead>\n",
       "  <tbody>\n",
       "    <tr>\n",
       "      <th>0</th>\n",
       "      <td>6.1101</td>\n",
       "      <td>17.5920</td>\n",
       "    </tr>\n",
       "    <tr>\n",
       "      <th>1</th>\n",
       "      <td>5.5277</td>\n",
       "      <td>9.1302</td>\n",
       "    </tr>\n",
       "    <tr>\n",
       "      <th>2</th>\n",
       "      <td>8.5186</td>\n",
       "      <td>13.6620</td>\n",
       "    </tr>\n",
       "    <tr>\n",
       "      <th>3</th>\n",
       "      <td>7.0032</td>\n",
       "      <td>11.8540</td>\n",
       "    </tr>\n",
       "    <tr>\n",
       "      <th>4</th>\n",
       "      <td>5.8598</td>\n",
       "      <td>6.8233</td>\n",
       "    </tr>\n",
       "  </tbody>\n",
       "</table>\n",
       "</div>"
      ],
      "text/plain": [
       "        0        1\n",
       "0  6.1101  17.5920\n",
       "1  5.5277   9.1302\n",
       "2  8.5186  13.6620\n",
       "3  7.0032  11.8540\n",
       "4  5.8598   6.8233"
      ]
     },
     "execution_count": 3,
     "metadata": {},
     "output_type": "execute_result"
    }
   ],
   "source": [
    "data.head()"
   ]
  },
  {
   "cell_type": "code",
   "execution_count": 4,
   "metadata": {},
   "outputs": [
    {
     "data": {
      "image/png": "[encoded data removed]",
      "text/plain": [
       "<Figure size 432x288 with 1 Axes>"
      ]
     },
     "metadata": {
      "needs_background": "light"
     },
     "output_type": "display_data"
    }
   ],
   "source": [
    "tml.scatter_plot(data[0], data[1], xlabel='population of city in 10,000s',\n",
    "                    ylabel='profit in $10,000s', title='scatter plot of training data')"
   ]
  },
  {
   "cell_type": "markdown",
   "metadata": {},
   "source": [
    "Now, we will create features and labels for our regression model. Then we will fit the model using gradient descent function."
   ]
  },
  {
   "cell_type": "code",
   "execution_count": 5,
   "metadata": {},
   "outputs": [],
   "source": [
    "X = pd.DataFrame()\n",
    "X[0] = np.ones((length))\n",
    "X[1] = data[:][0]\n",
    "y = data[:][1]\n",
    "num_feature = X.shape[1]"
   ]
  },
  {
   "cell_type": "code",
   "execution_count": 6,
   "metadata": {},
   "outputs": [
    {
     "name": "stderr",
     "output_type": "stream",
     "text": [
      "100%|██████████| 1500/1500 [00:07<00:00, 195.25it/s]\n"
     ]
    },
    {
     "data": {
      "image/png": "[encoded data removed]",
      "text/plain": [
       "<Figure size 432x288 with 1 Axes>"
      ]
     },
     "metadata": {
      "needs_background": "light"
     },
     "output_type": "display_data"
    }
   ],
   "source": [
    "theta = tml.initialize_theta(num_feature)\n",
    "iterations = 1500\n",
    "alpha = 0.01 \n",
    "history, theta = tml.linear_regression.gd(X, y, theta, alpha, iterations)\n",
    "tml.plot(history, xlabel='iterations', ylabel='loss values', title='training loss')"
   ]
  },
  {
   "cell_type": "code",
   "execution_count": 7,
   "metadata": {},
   "outputs": [
    {
     "name": "stdout",
     "output_type": "stream",
     "text": [
      "          0\n",
      "0 -3.630291\n",
      "1  1.166362\n"
     ]
    }
   ],
   "source": [
    "# print the learned theta values\n",
    "print(theta)"
   ]
  },
  {
   "cell_type": "code",
   "execution_count": 8,
   "metadata": {},
   "outputs": [
    {
     "name": "stdout",
     "output_type": "stream",
     "text": [
      "For population =35,000, we predict a profit of [4519.7678677]\n",
      "For population = 70,000, we predict a profit of [45342.45012945]\n"
     ]
    }
   ],
   "source": [
    "# predict values with learned theta\n",
    "print(\"For population =35,000, we predict a profit of {}\".format(\n",
    "            tml.lin_regression_predict(np.array([1, 3.5]), theta)*10000))\n",
    "\n",
    "print(\"For population = 70,000, we predict a profit of {}\".format(\n",
    "            tml.lin_regression_predict(np.array([1, 7.0]), theta)*10000))"
   ]
  },
  {
   "cell_type": "markdown",
   "metadata": {},
   "source": [
    "### Visualize data with linear regression fit"
   ]
  },
  {
   "cell_type": "code",
   "execution_count": 9,
   "metadata": {},
   "outputs": [
    {
     "data": {
      "image/png": "[encoded data removed]",
      "text/plain": [
       "<Figure size 432x288 with 1 Axes>"
      ]
     },
     "metadata": {
      "needs_background": "light"
     },
     "output_type": "display_data"
    }
   ],
   "source": [
    "tml.scatter_plot(data[0], data[1], show=False)\n",
    "tml.plot(X[1], tml.lin_regression_predict(X, theta), xlabel='population of city in 10,000s',\n",
    "         ylabel='profit in $10,000s', title='Training Data with regression fit')"
   ]
  },
  {
   "cell_type": "markdown",
   "metadata": {},
   "source": [
    "### Visualize loss surface"
   ]
  },
  {
   "cell_type": "code",
   "execution_count": 10,
   "metadata": {},
   "outputs": [
    {
     "data": {
      "image/png": "[encoded data removed]",
      "text/plain": [
       "<Figure size 432x288 with 1 Axes>"
      ]
     },
     "metadata": {
      "needs_background": "light"
     },
     "output_type": "display_data"
    }
   ],
   "source": [
    "theta0 = np.linspace(-10, 10, 100)\n",
    "theta1 = np.linspace(-1, 4, 100)\n",
    "\n",
    "losses = np.zeros((len(theta0), len(theta1)))\n",
    "\n",
    "for i in range(len(theta0)):\n",
    "    for j in range(len(theta1)):\n",
    "        t = np.array([theta0[i], theta1[j]]).reshape(2,1)\n",
    "        losses[i][j] = tml.linear_regression.mse_loss(X, y, t)\n",
    "\n",
    "tml.surface_plot(theta0, theta1, losses)"
   ]
  },
  {
   "cell_type": "markdown",
   "metadata": {},
   "source": [
    "In the above 3D plot, it is difficult to understand the loss surface. So, in the following I will plot the contour plot."
   ]
  },
  {
   "cell_type": "code",
   "execution_count": 11,
   "metadata": {},
   "outputs": [
    {
     "data": {
      "image/png": "[encoded data removed]",
      "text/plain": [
       "<Figure size 432x288 with 1 Axes>"
      ]
     },
     "metadata": {
      "needs_background": "light"
     },
     "output_type": "display_data"
    }
   ],
   "source": [
    "tml.contour_plot(losses, levels=np.logspace(-2, 3, 20))"
   ]
  },
  {
   "cell_type": "markdown",
   "metadata": {},
   "source": [
    "From the above diagrams and the loss curve, it is clear that the model learn the data well."
   ]
  },
  {
   "cell_type": "markdown",
   "metadata": {},
   "source": [
    "<a id='project2'></a>\n",
    "### 2. Linear Regression (with multiple variables)"
   ]
  },
  {
   "cell_type": "markdown",
   "metadata": {},
   "source": [
    "In this part, you will implement linear regression with multiple variables to predict the prices of houses. Suppose you are selling your house and you want to know what a good market price would be. One way to do this is to first collect information on recent houses sold and make a model of housing prices.\n",
    "\n",
    "The file ex1data2.txt contains a training set of housing prices in Portland, Oregon. The first column is the size of the house (in square feet), the second column is the number of bedrooms, and the third column is the price of the house."
   ]
  },
  {
   "cell_type": "code",
   "execution_count": 12,
   "metadata": {},
   "outputs": [],
   "source": [
    "# import necessary modules\n",
    "import pandas as pd\n",
    "import numpy as np\n",
    "\n",
    "import traditional_ml as tml"
   ]
  },
  {
   "cell_type": "code",
   "execution_count": 13,
   "metadata": {},
   "outputs": [
    {
     "data": {
      "text/html": [
       "<div>\n",
       "<style scoped>\n",
       "    .dataframe tbody tr th:only-of-type {\n",
       "        vertical-align: middle;\n",
       "    }\n",
       "\n",
       "    .dataframe tbody tr th {\n",
       "        vertical-align: top;\n",
       "    }\n",
       "\n",
       "    .dataframe thead th {\n",
       "        text-align: right;\n",
       "    }\n",
       "</style>\n",
       "<table border=\"1\" class=\"dataframe\">\n",
       "  <thead>\n",
       "    <tr style=\"text-align: right;\">\n",
       "      <th></th>\n",
       "      <th>0</th>\n",
       "      <th>1</th>\n",
       "      <th>2</th>\n",
       "    </tr>\n",
       "  </thead>\n",
       "  <tbody>\n",
       "    <tr>\n",
       "      <th>0</th>\n",
       "      <td>2104</td>\n",
       "      <td>3</td>\n",
       "      <td>399900</td>\n",
       "    </tr>\n",
       "    <tr>\n",
       "      <th>1</th>\n",
       "      <td>1600</td>\n",
       "      <td>3</td>\n",
       "      <td>329900</td>\n",
       "    </tr>\n",
       "    <tr>\n",
       "      <th>2</th>\n",
       "      <td>2400</td>\n",
       "      <td>3</td>\n",
       "      <td>369000</td>\n",
       "    </tr>\n",
       "    <tr>\n",
       "      <th>3</th>\n",
       "      <td>1416</td>\n",
       "      <td>2</td>\n",
       "      <td>232000</td>\n",
       "    </tr>\n",
       "    <tr>\n",
       "      <th>4</th>\n",
       "      <td>3000</td>\n",
       "      <td>4</td>\n",
       "      <td>539900</td>\n",
       "    </tr>\n",
       "  </tbody>\n",
       "</table>\n",
       "</div>"
      ],
      "text/plain": [
       "      0  1       2\n",
       "0  2104  3  399900\n",
       "1  1600  3  329900\n",
       "2  2400  3  369000\n",
       "3  1416  2  232000\n",
       "4  3000  4  539900"
      ]
     },
     "execution_count": 13,
     "metadata": {},
     "output_type": "execute_result"
    }
   ],
   "source": [
    "# lets look at the data first\n",
    "data = pd.read_csv('./datasets/ex1data2.txt', header=None)\n",
    "m = len(data[0])\n",
    "data.head()"
   ]
  },
  {
   "cell_type": "markdown",
   "metadata": {},
   "source": [
    "From the above, it is clear that the feature range is not same. So, we have to normalize the data. "
   ]
  },
  {
   "cell_type": "code",
   "execution_count": 14,
   "metadata": {},
   "outputs": [],
   "source": [
    "X_norm, mu, sigma = tml.feature_normalize(data.loc[:, 0:1])\n",
    "X = pd.DataFrame()\n",
    "\n",
    "X[0] = np.ones((m))\n",
    "X[1] = X_norm[0]\n",
    "X[2] = X_norm[1]\n",
    "num_feature = X.shape[1]\n",
    " \n",
    "y = data[data.columns[-1]]"
   ]
  },
  {
   "cell_type": "markdown",
   "metadata": {},
   "source": [
    "Next, we will run gradient descent in the similar way as above. "
   ]
  },
  {
   "cell_type": "code",
   "execution_count": 15,
   "metadata": {},
   "outputs": [
    {
     "name": "stderr",
     "output_type": "stream",
     "text": [
      "100%|██████████| 1500/1500 [00:07<00:00, 201.51it/s]\n"
     ]
    },
    {
     "data": {
      "image/png": "[encoded data removed]",
      "text/plain": [
       "<Figure size 432x288 with 1 Axes>"
      ]
     },
     "metadata": {
      "needs_background": "light"
     },
     "output_type": "display_data"
    }
   ],
   "source": [
    "theta = tml.initialize_theta(num_feature)\n",
    "iterations = 1500\n",
    "alpha = 0.01\n",
    "\n",
    "history, theta = tml.linear_regression.gd(X, y, theta, alpha, iterations)\n",
    "tml.plot(history, xlabel='iterations', ylabel='loss values', title='training loss')"
   ]
  },
  {
   "cell_type": "markdown",
   "metadata": {},
   "source": [
    "From the above curve, it is clear that the model train is successful."
   ]
  },
  {
   "cell_type": "markdown",
   "metadata": {},
   "source": [
    "<a id='project3'></a>\n",
    "### 3. Logistic Regression (Without Regularization)"
   ]
  },
  {
   "cell_type": "markdown",
   "metadata": {},
   "source": [
    "In this project, we are using a sample dataset from the same course from coursera to show how to use logistic regression module. In this dataset, two exam score is given and we have to predict whether the student will be admitted or not. This is a binary classification problem. "
   ]
  },
  {
   "cell_type": "code",
   "execution_count": 16,
   "metadata": {},
   "outputs": [],
   "source": [
    "# import necessary modules\n",
    "import pandas as pd\n",
    "import numpy as np\n",
    "\n",
    "import traditional_ml as tml"
   ]
  },
  {
   "cell_type": "code",
   "execution_count": 17,
   "metadata": {},
   "outputs": [],
   "source": [
    "data = pd.read_csv('./datasets/ex2data1.txt', header=None)\n",
    "length = len(data)"
   ]
  },
  {
   "cell_type": "code",
   "execution_count": 18,
   "metadata": {},
   "outputs": [
    {
     "data": {
      "text/html": [
       "<div>\n",
       "<style scoped>\n",
       "    .dataframe tbody tr th:only-of-type {\n",
       "        vertical-align: middle;\n",
       "    }\n",
       "\n",
       "    .dataframe tbody tr th {\n",
       "        vertical-align: top;\n",
       "    }\n",
       "\n",
       "    .dataframe thead th {\n",
       "        text-align: right;\n",
       "    }\n",
       "</style>\n",
       "<table border=\"1\" class=\"dataframe\">\n",
       "  <thead>\n",
       "    <tr style=\"text-align: right;\">\n",
       "      <th></th>\n",
       "      <th>0</th>\n",
       "      <th>1</th>\n",
       "      <th>2</th>\n",
       "    </tr>\n",
       "  </thead>\n",
       "  <tbody>\n",
       "    <tr>\n",
       "      <th>0</th>\n",
       "      <td>34.623660</td>\n",
       "      <td>78.024693</td>\n",
       "      <td>0</td>\n",
       "    </tr>\n",
       "    <tr>\n",
       "      <th>1</th>\n",
       "      <td>30.286711</td>\n",
       "      <td>43.894998</td>\n",
       "      <td>0</td>\n",
       "    </tr>\n",
       "    <tr>\n",
       "      <th>2</th>\n",
       "      <td>35.847409</td>\n",
       "      <td>72.902198</td>\n",
       "      <td>0</td>\n",
       "    </tr>\n",
       "    <tr>\n",
       "      <th>3</th>\n",
       "      <td>60.182599</td>\n",
       "      <td>86.308552</td>\n",
       "      <td>1</td>\n",
       "    </tr>\n",
       "    <tr>\n",
       "      <th>4</th>\n",
       "      <td>79.032736</td>\n",
       "      <td>75.344376</td>\n",
       "      <td>1</td>\n",
       "    </tr>\n",
       "  </tbody>\n",
       "</table>\n",
       "</div>"
      ],
      "text/plain": [
       "           0          1  2\n",
       "0  34.623660  78.024693  0\n",
       "1  30.286711  43.894998  0\n",
       "2  35.847409  72.902198  0\n",
       "3  60.182599  86.308552  1\n",
       "4  79.032736  75.344376  1"
      ]
     },
     "execution_count": 18,
     "metadata": {},
     "output_type": "execute_result"
    }
   ],
   "source": [
    "data.head()"
   ]
  },
  {
   "cell_type": "code",
   "execution_count": 19,
   "metadata": {},
   "outputs": [],
   "source": [
    "cls_1 = data[data[2]==0]\n",
    "cls_2 = data[data[2]==1]"
   ]
  },
  {
   "cell_type": "code",
   "execution_count": 20,
   "metadata": {
    "scrolled": true
   },
   "outputs": [
    {
     "data": {
      "image/png": "[encoded data removed]",
      "text/plain": [
       "<Figure size 432x288 with 1 Axes>"
      ]
     },
     "metadata": {
      "needs_background": "light"
     },
     "output_type": "display_data"
    }
   ],
   "source": [
    "tml.scatter_plot(cls_1[0], cls_1[1], show=False)\n",
    "tml.scatter_plot(cls_2[0], cls_2[1], m='o', xlabel='Exam 1 score', ylabel='Exam 2 score',\n",
    "                 legend=['Not Admitted', 'Admitted'])"
   ]
  },
  {
   "cell_type": "markdown",
   "metadata": {},
   "source": [
    "From the above plot, we can see that the data can be separated with a line. So we do not need regularization for this type of data. Vanila logistic regression algorithm will perform well on this type of data. "
   ]
  },
  {
   "cell_type": "code",
   "execution_count": 21,
   "metadata": {},
   "outputs": [],
   "source": [
    "X = pd.DataFrame()\n",
    "\n",
    "X[0] = np.ones((length))\n",
    "X[1] = data[0]\n",
    "X[2] = data[1]\n",
    "num_feature = X.shape[1]"
   ]
  },
  {
   "cell_type": "code",
   "execution_count": 22,
   "metadata": {},
   "outputs": [],
   "source": [
    "y = data[data.columns[-1]]"
   ]
  },
  {
   "cell_type": "code",
   "execution_count": 23,
   "metadata": {},
   "outputs": [],
   "source": [
    "theta = tml.initialize_theta(num_feature)\n",
    "\n",
    "theta, loss = tml.logistic_regression.optimize_theta(X, y, tml.logistic_regression.logistic_loss, theta, \n",
    "                                               tml.logistic_regression.gradient)"
   ]
  },
  {
   "cell_type": "code",
   "execution_count": 24,
   "metadata": {},
   "outputs": [
    {
     "data": {
      "image/png": "[encoded data removed]",
      "text/plain": [
       "<Figure size 432x288 with 1 Axes>"
      ]
     },
     "metadata": {
      "needs_background": "light"
     },
     "output_type": "display_data"
    }
   ],
   "source": [
    "# plotting decision boundary\n",
    "tml.scatter_plot(cls_1[0], cls_1[1], show=False)\n",
    "tml.scatter_plot(cls_2[0], cls_2[1], m='o', show=False)\n",
    "tml.plot_decision_boundary(X, theta, xlabel='Exam 1 Score', ylabel='Exam 2 Score',\n",
    "                           title='Decision Boundary Plot')"
   ]
  },
  {
   "cell_type": "markdown",
   "metadata": {},
   "source": [
    "As we expected, with the learned theta values a decision boundary can be drawn which can separate the two class well. So we can say that the learned theta are optimized for this dataset. \n",
    "\n",
    "Lets say, one student got 60.0 and 86.0 in two exams respectively. We want to predict whether that student will be accepted or not. The following cell will do that for us-"
   ]
  },
  {
   "cell_type": "code",
   "execution_count": 25,
   "metadata": {},
   "outputs": [
    {
     "name": "stdout",
     "output_type": "stream",
     "text": [
      "[[1.]]\n"
     ]
    }
   ],
   "source": [
    "X = np.array([[1., 60.0, 86.0]])\n",
    "p = tml.log_regression_predict(X, theta)\n",
    "print(p)"
   ]
  },
  {
   "cell_type": "markdown",
   "metadata": {},
   "source": [
    "So, the student will be accepted according to our prediction. From the plot above, we know that if the student does well in both exam then it is highly likely that the student will be accepted. So, our prediction is according to our dataset. "
   ]
  },
  {
   "cell_type": "markdown",
   "metadata": {},
   "source": [
    "<a id='project4'></a>\n",
    "### 4. Logistic Regression (With Regularization)"
   ]
  },
  {
   "cell_type": "markdown",
   "metadata": {},
   "source": [
    "In this project, we will implement regularized logistic regression to predict whether microchips from a fabrication plant passes quality assurance (QA). During QA, each microchip goes through various tests to ensure\n",
    "it is functioning correctly. \n",
    "\n",
    "Suppose you are the product manager of the factory and you have the test results for some microchips on two different tests. From these two tests, you would like to determine whether the microchips should be accepted or\n",
    "rejected. To help you make the decision, you have a dataset of test results on past microchips, from which you can build a logistic regression model.\n",
    "\n",
    "The dataset is collected from the coursera machine learning course."
   ]
  },
  {
   "cell_type": "code",
   "execution_count": 26,
   "metadata": {},
   "outputs": [],
   "source": [
    "import pandas as pd\n",
    "import numpy as np\n",
    "\n",
    "import traditional_ml as tml"
   ]
  },
  {
   "cell_type": "code",
   "execution_count": 27,
   "metadata": {},
   "outputs": [
    {
     "data": {
      "text/html": [
       "<div>\n",
       "<style scoped>\n",
       "    .dataframe tbody tr th:only-of-type {\n",
       "        vertical-align: middle;\n",
       "    }\n",
       "\n",
       "    .dataframe tbody tr th {\n",
       "        vertical-align: top;\n",
       "    }\n",
       "\n",
       "    .dataframe thead th {\n",
       "        text-align: right;\n",
       "    }\n",
       "</style>\n",
       "<table border=\"1\" class=\"dataframe\">\n",
       "  <thead>\n",
       "    <tr style=\"text-align: right;\">\n",
       "      <th></th>\n",
       "      <th>0</th>\n",
       "      <th>1</th>\n",
       "      <th>2</th>\n",
       "    </tr>\n",
       "  </thead>\n",
       "  <tbody>\n",
       "    <tr>\n",
       "      <th>0</th>\n",
       "      <td>0.051267</td>\n",
       "      <td>0.69956</td>\n",
       "      <td>1</td>\n",
       "    </tr>\n",
       "    <tr>\n",
       "      <th>1</th>\n",
       "      <td>-0.092742</td>\n",
       "      <td>0.68494</td>\n",
       "      <td>1</td>\n",
       "    </tr>\n",
       "    <tr>\n",
       "      <th>2</th>\n",
       "      <td>-0.213710</td>\n",
       "      <td>0.69225</td>\n",
       "      <td>1</td>\n",
       "    </tr>\n",
       "    <tr>\n",
       "      <th>3</th>\n",
       "      <td>-0.375000</td>\n",
       "      <td>0.50219</td>\n",
       "      <td>1</td>\n",
       "    </tr>\n",
       "    <tr>\n",
       "      <th>4</th>\n",
       "      <td>-0.513250</td>\n",
       "      <td>0.46564</td>\n",
       "      <td>1</td>\n",
       "    </tr>\n",
       "  </tbody>\n",
       "</table>\n",
       "</div>"
      ],
      "text/plain": [
       "          0        1  2\n",
       "0  0.051267  0.69956  1\n",
       "1 -0.092742  0.68494  1\n",
       "2 -0.213710  0.69225  1\n",
       "3 -0.375000  0.50219  1\n",
       "4 -0.513250  0.46564  1"
      ]
     },
     "execution_count": 27,
     "metadata": {},
     "output_type": "execute_result"
    }
   ],
   "source": [
    "data = pd.read_csv('./datasets/ex2data2.txt', header=None)\n",
    "length = len(data)\n",
    "data.head()"
   ]
  },
  {
   "cell_type": "code",
   "execution_count": 28,
   "metadata": {},
   "outputs": [],
   "source": [
    "cls_1 = data[data[2]==0]\n",
    "cls_2 = data[data[2]==1]"
   ]
  },
  {
   "cell_type": "code",
   "execution_count": 29,
   "metadata": {},
   "outputs": [
    {
     "data": {
      "image/png": "[encoded data removed]",
      "text/plain": [
       "<Figure size 432x288 with 1 Axes>"
      ]
     },
     "metadata": {
      "needs_background": "light"
     },
     "output_type": "display_data"
    }
   ],
   "source": [
    "tml.scatter_plot(cls_1[0], cls_1[1], show=False)\n",
    "tml.scatter_plot(cls_2[0], cls_2[1], m='o', xlabel='Test 1 result', ylabel='Test 2 result',\n",
    "                 legend=['Not Accepted', 'Accepted'])"
   ]
  },
  {
   "cell_type": "markdown",
   "metadata": {},
   "source": [
    "The above plot shows that our dataset cannot be separated into positive and negative examples by a straight-line through the plot. Therefore, a straight forward application of logistic regression will not perform well on this dataset since logistic regression will only be able to find a linear decision boundary."
   ]
  },
  {
   "cell_type": "markdown",
   "metadata": {},
   "source": [
    "### Feature map"
   ]
  },
  {
   "cell_type": "markdown",
   "metadata": {},
   "source": [
    "One way to fit the data better is to create more features from each data point. In the provided function mapFeature, we will map the features into all polynomial terms of x1 and x2 up to the sixth power.\n",
    "\n",
    "As a result of this mapping, our vector of two features (the scores on two QA tests) has been transformed into a 28-dimensional vector. A logistic regression classifier trained on this higher-dimension feature vector will have\n",
    "a more complex decision boundary and will appear nonlinear when drawn in our 2-dimensional plot.\n",
    "\n",
    "While the feature mapping allows us to build a more expressive classifier, it also more susceptible to overfitting. In the next parts of the project, we will implement regularized logistic regression to fit the data and also see for ourselves how regularization can help combat the overfitting problem."
   ]
  },
  {
   "cell_type": "code",
   "execution_count": 30,
   "metadata": {},
   "outputs": [],
   "source": [
    "X1 = data[0].values\n",
    "X2 = data[1].values\n",
    "# map_feature function will add inception column [np.ones] to the feature vector\n",
    "X = tml.logistic_regression.map_feature(X1, X2, degree=6)\n",
    "y = data[data.columns[-1]]\n",
    "num_feature = X.shape[1]"
   ]
  },
  {
   "cell_type": "code",
   "execution_count": 31,
   "metadata": {},
   "outputs": [],
   "source": [
    "theta = tml.initialize_theta(num_feature)\n",
    "theta, loss = tml.logistic_regression.optimize_theta(X, y, tml.logistic_regression.logistic_loss, theta, \n",
    "                                               tml.logistic_regression.gradient, lamda=1)"
   ]
  },
  {
   "cell_type": "code",
   "execution_count": 32,
   "metadata": {},
   "outputs": [
    {
     "data": {
      "image/png": "[encoded data removed]",
      "text/plain": [
       "<Figure size 432x288 with 1 Axes>"
      ]
     },
     "metadata": {
      "needs_background": "light"
     },
     "output_type": "display_data"
    }
   ],
   "source": [
    "# plotting non linear decision boundary\n",
    "tml.scatter_plot(cls_1[0], cls_1[1], show=False)\n",
    "tml.scatter_plot(cls_2[0], cls_2[1], m='o', show=False)\n",
    "tml.plot_non_linear_boundary(theta, Xlabel=\"Test1 score\", Ylabel=\"Test2 score\", plot_title=\"non linear boundary\")"
   ]
  },
  {
   "cell_type": "markdown",
   "metadata": {},
   "source": [
    "From the above curve, it is seen that the learned decision boundary fits the dataset well. Lets take a sample data now and try to predit whether that micro chip will be accepted or not. "
   ]
  },
  {
   "cell_type": "code",
   "execution_count": 33,
   "metadata": {},
   "outputs": [
    {
     "name": "stdout",
     "output_type": "stream",
     "text": [
      "[[1.]]\n"
     ]
    }
   ],
   "source": [
    "X = np.array([[0.5, 0.5]])\n",
    "high_dimensional_feature = tml.logistic_regression.map_feature(np.array(X[0][0]), np.array(X[0][1]))\n",
    "p = tml.log_regression_predict(high_dimensional_feature, theta)\n",
    "print(p)"
   ]
  },
  {
   "cell_type": "markdown",
   "metadata": {},
   "source": [
    "Acoording to our prediction this particular chip will be accepted. We can verify this from the above decidion boundary plot."
   ]
  },
  {
   "cell_type": "markdown",
   "metadata": {},
   "source": [
    "<a id='project5'></a>\n",
    "### 5. Logistic Regression (Multi class classification)"
   ]
  },
  {
   "cell_type": "markdown",
   "metadata": {},
   "source": [
    "For this project, we will use logistic regression to recognize handwritten digits (from 0 to 9). Automated handwritten digit recognition is widely used today - from recognizing zip codes (postal codes) on mail envelopes to recognizing amounts written on bank checks. \n",
    "\n",
    "In this project, we will extend our previous implemention of logistic regression and apply it to one-vs-all classification."
   ]
  },
  {
   "cell_type": "code",
   "execution_count": 34,
   "metadata": {},
   "outputs": [],
   "source": [
    "import scipy.io\n",
    "import numpy as np\n",
    "import matplotlib.pyplot as plt\n",
    "\n",
    "import traditional_ml as tml"
   ]
  },
  {
   "cell_type": "code",
   "execution_count": 35,
   "metadata": {},
   "outputs": [],
   "source": [
    "data = scipy.io.loadmat('./datasets/ex3data1.mat')"
   ]
  },
  {
   "cell_type": "code",
   "execution_count": 36,
   "metadata": {},
   "outputs": [],
   "source": [
    "X = data['X']\n",
    "y = data['y']"
   ]
  },
  {
   "cell_type": "code",
   "execution_count": 37,
   "metadata": {},
   "outputs": [
    {
     "name": "stdout",
     "output_type": "stream",
     "text": [
      "The label is  [10]\n"
     ]
    },
    {
     "data": {
      "image/png": "[encoded data removed]",
      "text/plain": [
       "<Figure size 432x288 with 1 Axes>"
      ]
     },
     "metadata": {
      "needs_background": "light"
     },
     "output_type": "display_data"
    }
   ],
   "source": [
    "# lets plot a single image from the dataset\n",
    "img = X[0].reshape(20,20)\n",
    "plt.imshow(img)\n",
    "print('The label is ', y[0])"
   ]
  },
  {
   "cell_type": "code",
   "execution_count": 38,
   "metadata": {},
   "outputs": [
    {
     "name": "stdout",
     "output_type": "stream",
     "text": [
      "[ 1  2  3  4  5  6  7  8  9 10]\n"
     ]
    }
   ],
   "source": [
    "X = np.insert(X, 0, 1, axis=1) # inserting inception column to the feature vector\n",
    "cls_idx = np.unique(y)\n",
    "print(cls_idx)"
   ]
  },
  {
   "cell_type": "markdown",
   "metadata": {},
   "source": [
    "Number 0 is labeled as 10 in this dataset. That is why the class indices starts from 1 and ends at 10."
   ]
  },
  {
   "cell_type": "code",
   "execution_count": 39,
   "metadata": {},
   "outputs": [],
   "source": [
    "theta, losses = tml.logistic_regression.optimize_theta_for_multiclass(X, y, tml.logistic_regression.logistic_loss,\n",
    "                                       tml.logistic_regression.gradient, cls_idx, lamda=0.1)"
   ]
  },
  {
   "cell_type": "markdown",
   "metadata": {},
   "source": [
    "Now lets predict one image with our learned theta values to see how our model performs."
   ]
  },
  {
   "cell_type": "code",
   "execution_count": 40,
   "metadata": {},
   "outputs": [],
   "source": [
    "p = tml.log_regression_predict(X[0].reshape(1, -1), theta, num_cls=10)"
   ]
  },
  {
   "cell_type": "code",
   "execution_count": 41,
   "metadata": {},
   "outputs": [
    {
     "data": {
      "text/plain": [
       "9"
      ]
     },
     "execution_count": 41,
     "metadata": {},
     "output_type": "execute_result"
    }
   ],
   "source": [
    "np.argmax(p) "
   ]
  },
  {
   "cell_type": "markdown",
   "metadata": {},
   "source": [
    "The predict function returns probability for each class. Since the index of highest probablity is 9 so the model predicts the image to be 0 class. So our model prediction is correct."
   ]
  },
  {
   "cell_type": "markdown",
   "metadata": {},
   "source": [
    "<a id='project6'></a>\n",
    "### 6. Neural Network"
   ]
  },
  {
   "cell_type": "markdown",
   "metadata": {},
   "source": [
    "In this project, we will use the same dataset from logistic regression project which is hand written digit classification. We will use neural network algorithm to solve this dataset now. Neural network can learn more complex decision boundary and suitbale for learning complex data."
   ]
  },
  {
   "cell_type": "code",
   "execution_count": 42,
   "metadata": {},
   "outputs": [],
   "source": [
    "import scipy.io\n",
    "import numpy as np\n",
    "import matplotlib.pyplot as plt\n",
    "\n",
    "import traditional_ml as tml"
   ]
  },
  {
   "cell_type": "code",
   "execution_count": 43,
   "metadata": {},
   "outputs": [],
   "source": [
    "data = scipy.io.loadmat('./datasets/ex3data1.mat')"
   ]
  },
  {
   "cell_type": "code",
   "execution_count": 44,
   "metadata": {},
   "outputs": [],
   "source": [
    "X = data['X']\n",
    "y = data['y']"
   ]
  },
  {
   "cell_type": "markdown",
   "metadata": {},
   "source": [
    "In our neural network, there will be three layers in total. Input layer, hidden layer and output layer. The unit number of input layer depends on the input feature size, in our case it is 400 (without inception). For the hidden layer we chose 25 units. But any suitable number is fine. Finally, we have 10 classes in total, so the final layer's unit size must be 10."
   ]
  },
  {
   "cell_type": "code",
   "execution_count": 45,
   "metadata": {},
   "outputs": [],
   "source": [
    "input_layer_size=400\n",
    "hidden_layer_size=25\n",
    "num_labels=10"
   ]
  },
  {
   "cell_type": "markdown",
   "metadata": {},
   "source": [
    "Gradient descent algorithm works better with better weight initialization. So, we can not just use the previous method to initialize theta with all zeros. It will make difficult for neural network to learn through gradient descent. A good choice for weight initialization is as follows-\n",
    "At first, we need to calculate $\\epsilon$ based on the number of units in the layer and it's adjacent layer. $L_{in}$ represents the input size to this layer and $L_{out}$ represents the output size to this layer. Then $\\epsilon$ is calculated as follows-\n",
    "\n",
    "$$\\epsilon = \\frac{\\sqrt6}{\\sqrt{(L_{in} + L_{out})}}$$\n",
    "\n",
    "After calculating epsilon, the weight is initialized as follows-\n",
    "\n",
    "W = np.random.uniform(size=(Lout, Lin+1)) * 2 * epsilon - epsilon"
   ]
  },
  {
   "cell_type": "code",
   "execution_count": 46,
   "metadata": {},
   "outputs": [],
   "source": [
    "theta1 = tml.neural_network.rand_init_weight(input_layer_size, hidden_layer_size)\n",
    "theta2 = tml.neural_network.rand_init_weight(hidden_layer_size, num_labels)\n",
    "nn_params = np.append(theta1.flatten(), theta2.flatten())"
   ]
  },
  {
   "cell_type": "markdown",
   "metadata": {},
   "source": [
    "A learning rate needs to be chosen for the training with gradient descent. In this project learning rate is set to 0.8. The total number of iteration is set to 800. As the gradient descent calculation is complex, the time required for this training depends on the CPU of your machine and the number of iteration. "
   ]
  },
  {
   "cell_type": "code",
   "execution_count": 47,
   "metadata": {},
   "outputs": [],
   "source": [
    "# set training params\n",
    "learning_rate = 0.8\n",
    "iteration = 800\n",
    "lamda = 3 # regularized parameters"
   ]
  },
  {
   "cell_type": "code",
   "execution_count": 48,
   "metadata": {},
   "outputs": [
    {
     "name": "stderr",
     "output_type": "stream",
     "text": [
      "100%|██████████| 800/800 [04:58<00:00,  2.68it/s]\n"
     ]
    }
   ],
   "source": [
    "theta, loss_history = tml.neural_network.optimize_theta(X, y, nn_params, learning_rate, iteration,\n",
    "                                                         lamda, input_layer_size,\n",
    "                                                         hidden_layer_size, num_labels)\n",
    "# unrolling theta\n",
    "theta1 = theta[:((input_layer_size+1) * hidden_layer_size)].reshape(hidden_layer_size,input_layer_size+1)\n",
    "theta2 = theta[((input_layer_size +1)* hidden_layer_size ):].reshape(num_labels,hidden_layer_size+1)\n"
   ]
  },
  {
   "cell_type": "code",
   "execution_count": 49,
   "metadata": {},
   "outputs": [
    {
     "data": {
      "image/png": "[encoded data removed]",
      "text/plain": [
       "<Figure size 432x288 with 1 Axes>"
      ]
     },
     "metadata": {
      "needs_background": "light"
     },
     "output_type": "display_data"
    }
   ],
   "source": [
    "tml.plot(loss_history, xlabel=\"iteration\", ylabel=\"loss\", title=\"Training Curve\")"
   ]
  },
  {
   "cell_type": "code",
   "execution_count": 50,
   "metadata": {},
   "outputs": [
    {
     "name": "stdout",
     "output_type": "stream",
     "text": [
      "The label is  [10]\n"
     ]
    },
    {
     "data": {
      "image/png": "[encoded data removed]",
      "text/plain": [
       "<Figure size 432x288 with 1 Axes>"
      ]
     },
     "metadata": {
      "needs_background": "light"
     },
     "output_type": "display_data"
    }
   ],
   "source": [
    "# lets plot a single image from the dataset\n",
    "img = X[0].reshape(20,20)\n",
    "plt.imshow(img)\n",
    "print('The label is ', y[0])"
   ]
  },
  {
   "cell_type": "code",
   "execution_count": 51,
   "metadata": {},
   "outputs": [
    {
     "data": {
      "text/plain": [
       "array([10])"
      ]
     },
     "execution_count": 51,
     "metadata": {},
     "output_type": "execute_result"
    }
   ],
   "source": [
    "# now lets predict this image with our trained neural network.\n",
    "tml.neural_network.nn_predict(theta1, theta2, X[0].reshape(1, -1))"
   ]
  },
  {
   "cell_type": "markdown",
   "metadata": {},
   "source": [
    "The model predicted correctly that this is a zero which is labeled as 10 in our dataset. So we successfully trained the model using our functions. "
   ]
  },
  {
   "cell_type": "markdown",
   "metadata": {},
   "source": [
    "<a id='project7'></a>\n",
    "### 7. Polynomial Regression"
   ]
  },
  {
   "cell_type": "markdown",
   "metadata": {},
   "source": [
    "In this project, we will learn a very important concept of machine learning calld bias-variance tradeoff. Models with high bias are not complex enough for the data and tend to underfit, while models with high variance overfit to the training data.\n",
    "\n",
    "In this example, we will implement regularized linear regression to predict the amount of water flowing out of a dam using the change of water level in a reservoir. The dataset is collected from the same coursera machine learning course.\n",
    "\n",
    "At first, we will try to use linear regression then we will analyze the model performance. At last, we will improve the performance of the model with polynomial regression."
   ]
  },
  {
   "cell_type": "code",
   "execution_count": 1,
   "metadata": {},
   "outputs": [],
   "source": [
    "import scipy.io\n",
    "import numpy as np\n",
    "\n",
    "import traditional_ml as tml"
   ]
  },
  {
   "cell_type": "code",
   "execution_count": 2,
   "metadata": {},
   "outputs": [],
   "source": [
    "data = scipy.io.loadmat('./datasets/ex5data1.mat')"
   ]
  },
  {
   "cell_type": "code",
   "execution_count": 3,
   "metadata": {},
   "outputs": [],
   "source": [
    "data.keys()\n",
    "X = data['X']\n",
    "y = data['y']\n",
    "Xtest = data['Xtest']\n",
    "ytest = data['ytest']\n",
    "Xval = data['Xval']\n",
    "yval = data['yval']"
   ]
  },
  {
   "cell_type": "markdown",
   "metadata": {},
   "source": [
    "As before, lets plot the data and train a linear regression model on this data."
   ]
  },
  {
   "cell_type": "code",
   "execution_count": 4,
   "metadata": {},
   "outputs": [
    {
     "data": {
      "image/png": "[encoded data removed]",
      "text/plain": [
       "<Figure size 432x288 with 1 Axes>"
      ]
     },
     "metadata": {
      "needs_background": "light"
     },
     "output_type": "display_data"
    }
   ],
   "source": [
    "tml.scatter_plot(X, y, xlabel=\"Change in water level (x)\", ylabel=\"Water flowing out of the dam (y)\",\n",
    "                title=\"Plotting Training data\")"
   ]
  },
  {
   "cell_type": "code",
   "execution_count": 5,
   "metadata": {},
   "outputs": [],
   "source": [
    "X = np.insert(X, 0, 1, axis=1)\n",
    "feature = X.shape[1]"
   ]
  },
  {
   "cell_type": "code",
   "execution_count": 6,
   "metadata": {},
   "outputs": [],
   "source": [
    "theta = tml.initialize_theta(feature)"
   ]
  },
  {
   "cell_type": "code",
   "execution_count": 7,
   "metadata": {},
   "outputs": [],
   "source": [
    "# training parameters\n",
    "iterations = 5000\n",
    "lamda = 0.\n",
    "alpha = 0.001"
   ]
  },
  {
   "cell_type": "code",
   "execution_count": 8,
   "metadata": {},
   "outputs": [
    {
     "name": "stderr",
     "output_type": "stream",
     "text": [
      "100%|██████████| 5000/5000 [00:00<00:00, 9597.59it/s] \n"
     ]
    }
   ],
   "source": [
    "loss_hist, theta = tml.linear_regression.gd(X, y, theta, alpha, iterations, lamda)"
   ]
  },
  {
   "cell_type": "code",
   "execution_count": 9,
   "metadata": {},
   "outputs": [
    {
     "data": {
      "image/png": "[encoded data removed]",
      "text/plain": [
       "<Figure size 432x288 with 1 Axes>"
      ]
     },
     "metadata": {
      "needs_background": "light"
     },
     "output_type": "display_data"
    }
   ],
   "source": [
    "tml.plot(loss_hist)"
   ]
  },
  {
   "cell_type": "code",
   "execution_count": 10,
   "metadata": {},
   "outputs": [
    {
     "data": {
      "image/png": "[encoded data removed]",
      "text/plain": [
       "<Figure size 432x288 with 1 Axes>"
      ]
     },
     "metadata": {
      "needs_background": "light"
     },
     "output_type": "display_data"
    }
   ],
   "source": [
    "tml.scatter_plot(X[:, 1], y, show=False)\n",
    "tml.plot((theta[0]+ (theta[1]*np.linspace(-50,40))), np.linspace(-50,40), xlabel='Change in water level',\n",
    "         ylabel='Water flowing out of the dam', title='plor regression fit')"
   ]
  },
  {
   "cell_type": "markdown",
   "metadata": {},
   "source": [
    "#### Learning Curve analysis"
   ]
  },
  {
   "cell_type": "markdown",
   "metadata": {},
   "source": [
    "As this is linear regression model and can only fit a straight line to the data, this type of model is not very suitable for this dataset. This model is too simple to learn this data pattern. This is known as high bias problem. To detect this problem we need a learning curve.\n",
    "\n",
    "Learning curves is useful in debugging learning algorithms. A learning curve plots training and cross validation error as a function of training set size. To plot the learning curve, we need a training and cross validation set\n",
    "error for different training set sizes. To obtain different training set sizes,\n",
    "we will use different subsets of the original training set X."
   ]
  },
  {
   "cell_type": "code",
   "execution_count": 11,
   "metadata": {},
   "outputs": [],
   "source": [
    "Xval = np.insert(Xval, 0, 1, axis=1)"
   ]
  },
  {
   "cell_type": "code",
   "execution_count": 12,
   "metadata": {},
   "outputs": [
    {
     "name": "stderr",
     "output_type": "stream",
     "text": [
      "100%|██████████| 200/200 [00:00<00:00, 6856.63it/s]\n",
      "100%|██████████| 200/200 [00:00<00:00, 6991.91it/s]\n",
      "100%|██████████| 200/200 [00:00<00:00, 8371.11it/s]\n",
      "100%|██████████| 200/200 [00:00<00:00, 8221.39it/s]\n",
      "100%|██████████| 200/200 [00:00<00:00, 5688.58it/s]\n",
      "100%|██████████| 200/200 [00:00<00:00, 7034.94it/s]\n",
      "100%|██████████| 200/200 [00:00<00:00, 5986.22it/s]\n",
      "100%|██████████| 200/200 [00:00<00:00, 6276.83it/s]\n",
      "100%|██████████| 200/200 [00:00<00:00, 6969.25it/s]\n",
      "100%|██████████| 200/200 [00:00<00:00, 6754.11it/s]\n",
      "100%|██████████| 200/200 [00:00<00:00, 6394.29it/s]\n",
      "100%|██████████| 200/200 [00:00<00:00, 6023.57it/s]\n"
     ]
    },
    {
     "data": {
      "image/png": "[encoded data removed]",
      "text/plain": [
       "<Figure size 432x288 with 1 Axes>"
      ]
     },
     "metadata": {
      "needs_background": "light"
     },
     "output_type": "display_data"
    }
   ],
   "source": [
    "tml.plot_learning_curve(X, y, Xval, yval, lamda=1)"
   ]
  },
  {
   "cell_type": "markdown",
   "metadata": {},
   "source": [
    "In the above plot, we observe that both the train error and cross validation error are high when the number of training examples is increased. This reflects a high bias problem in the model. The linear regression model is too simple and is unable to fit our dataset well."
   ]
  },
  {
   "cell_type": "markdown",
   "metadata": {},
   "source": [
    "#### Polynomial Regression"
   ]
  },
  {
   "cell_type": "markdown",
   "metadata": {},
   "source": [
    "Now, we will use polynomial regression for the same dataset. Polynomial regression model is able to learn polynomial feature thus it is suitable for our dataset. But polynomial regression is often suffers from overfitting. Thus we need to regularize the model. We will introduce a regularization parameter in this experiment to avoid over fitting."
   ]
  },
  {
   "cell_type": "markdown",
   "metadata": {},
   "source": [
    "The the following cell, we will create polynomial feature to train our model."
   ]
  },
  {
   "cell_type": "code",
   "execution_count": 4,
   "metadata": {},
   "outputs": [],
   "source": [
    "X_poly_train = tml.linear_regression.poly_features(X, 8)\n",
    "X_poly_train, mu, sigma = tml.feature_normalize(X_poly_train)\n",
    "X_poly_train = np.insert(X_poly_train, 0, 1, axis=1)\n",
    "\n",
    "X_poly_val = tml.linear_regression.poly_features(Xval, 8)\n",
    "X_poly_val = X_poly_val-mu\n",
    "X_poly_val = X_poly_val/sigma\n",
    "X_poly_val = np.insert(X_poly_val, 0, 1, axis=1)\n",
    "\n",
    "# X_poly_test = tml.linear_regression.poly_features(Xtest, 8)\n",
    "# X_poly_test = X_poly_test-mu\n",
    "# X_poly_test = X_poly_test/sigma\n",
    "# X_poly_test = np.insert(X_poly_test, 0, 1, axis=1)"
   ]
  },
  {
   "cell_type": "code",
   "execution_count": 5,
   "metadata": {},
   "outputs": [],
   "source": [
    "feature = X_poly_train.shape[1]\n",
    "theta = tml.initialize_theta(feature)"
   ]
  },
  {
   "cell_type": "markdown",
   "metadata": {},
   "source": [
    "To demonsrate that, polynomial regression easily overfits the data we will set the regularization parameter to zero and then try to train the model."
   ]
  },
  {
   "cell_type": "code",
   "execution_count": 6,
   "metadata": {},
   "outputs": [],
   "source": [
    "# training parameters\n",
    "iterations = 2000\n",
    "lamda = 0.\n",
    "alpha = 0.00001"
   ]
  },
  {
   "cell_type": "code",
   "execution_count": 7,
   "metadata": {},
   "outputs": [
    {
     "name": "stderr",
     "output_type": "stream",
     "text": [
      "100%|██████████| 2000/2000 [00:00<00:00, 7499.06it/s]\n"
     ]
    }
   ],
   "source": [
    "loss_hist, theta = tml.linear_regression.gd(X_poly_train, y, theta, alpha, iterations, lamda)"
   ]
  },
  {
   "cell_type": "code",
   "execution_count": 8,
   "metadata": {},
   "outputs": [
    {
     "data": {
      "image/png": "[encoded data removed]",
      "text/plain": [
       "<Figure size 432x288 with 1 Axes>"
      ]
     },
     "metadata": {
      "needs_background": "light"
     },
     "output_type": "display_data"
    }
   ],
   "source": [
    "tml.plot(loss_hist)"
   ]
  },
  {
   "cell_type": "markdown",
   "metadata": {},
   "source": [
    "We can see from the above plot that the training loss is decreasing with iteration. It means the model is doing well on training data. "
   ]
  },
  {
   "cell_type": "markdown",
   "metadata": {},
   "source": [
    "Lets plot the learned polynomial line by the model below- "
   ]
  },
  {
   "cell_type": "code",
   "execution_count": 9,
   "metadata": {},
   "outputs": [],
   "source": [
    "x = np.linspace(np.min(X), np.max(X))\n",
    "X_poly = tml.linear_regression.poly_features(x, 8)\n",
    "X_poly = X_poly-mu\n",
    "X_poly = X_poly/sigma\n",
    "X_poly = np.insert(X_poly, 0, 1, axis=1)"
   ]
  },
  {
   "cell_type": "code",
   "execution_count": 10,
   "metadata": {},
   "outputs": [],
   "source": [
    "prediction = tml.lin_regression_predict(X_poly, theta)"
   ]
  },
  {
   "cell_type": "code",
   "execution_count": 11,
   "metadata": {},
   "outputs": [
    {
     "data": {
      "image/png": "[encoded data removed]",
      "text/plain": [
       "<Figure size 432x288 with 1 Axes>"
      ]
     },
     "metadata": {
      "needs_background": "light"
     },
     "output_type": "display_data"
    }
   ],
   "source": [
    "tml.scatter_plot(X, y, show=False)\n",
    "tml.plot(prediction, x, xlabel='Change in water level',\n",
    "         ylabel='Water flowing out of the dam', title='plor regression fit')"
   ]
  },
  {
   "cell_type": "code",
   "execution_count": 12,
   "metadata": {},
   "outputs": [
    {
     "name": "stderr",
     "output_type": "stream",
     "text": [
      "100%|██████████| 200/200 [00:00<00:00, 6980.97it/s]\n",
      "100%|██████████| 200/200 [00:00<00:00, 6988.12it/s]\n",
      "  0%|          | 0/200 [00:00<?, ?it/s]/home/shamim/traditional_ML/traditional_ml/linear_regression/loss.py:9: RuntimeWarning: overflow encountered in square\n",
      "  diff = np.sum(np.square(hypothesis-y.reshape(-1, 1)))\n",
      "/home/shamim/traditional_ML/traditional_ml/linear_regression/loss.py:11: RuntimeWarning: overflow encountered in square\n",
      "  theta_sum = np.sum(np.square(theta[1:]))\n",
      "100%|██████████| 200/200 [00:00<00:00, 7768.67it/s]\n",
      "/home/shamim/traditional_ML/traditional_ml/linear_regression/loss.py:12: RuntimeWarning: invalid value encountered in double_scalars\n",
      "  regularized_term = (lamda/(2*m)) * theta_sum\n",
      "100%|██████████| 200/200 [00:00<00:00, 6668.00it/s]\n",
      "100%|██████████| 200/200 [00:00<00:00, 6091.99it/s]\n",
      "100%|██████████| 200/200 [00:00<00:00, 7063.56it/s]\n",
      "100%|██████████| 200/200 [00:00<00:00, 8045.85it/s]\n",
      "100%|██████████| 200/200 [00:00<00:00, 8024.38it/s]\n",
      "100%|██████████| 200/200 [00:00<00:00, 7539.03it/s]\n",
      "100%|██████████| 200/200 [00:00<00:00, 7609.61it/s]\n",
      "100%|██████████| 200/200 [00:00<00:00, 7423.15it/s]\n",
      "100%|██████████| 200/200 [00:00<00:00, 7818.48it/s]\n"
     ]
    },
    {
     "data": {
      "image/png": "[encoded data removed]",
      "text/plain": [
       "<Figure size 432x288 with 1 Axes>"
      ]
     },
     "metadata": {
      "needs_background": "light"
     },
     "output_type": "display_data"
    }
   ],
   "source": [
    "tml.plot_learning_curve(X_poly_train, y, X_poly_val, yval, lamda=1)"
   ]
  },
  {
   "cell_type": "markdown",
   "metadata": {},
   "source": [
    "From the above learning curve analysis, it is clear that the model is doing well on training set but the validation set error is very high. Thus, we can say that the model is suffering from high variance problem. We need to find a suitable lamda value to train a model which can perform well both on training and test data. "
   ]
  },
  {
   "cell_type": "code",
   "execution_count": null,
   "metadata": {},
   "outputs": [],
   "source": []
  }
 ],
 "metadata": {
  "kernelspec": {
   "display_name": "Python 3",
   "language": "python",
   "name": "python3"
  },
  "language_info": {
   "codemirror_mode": {
    "name": "ipython",
    "version": 3
   },
   "file_extension": ".py",
   "mimetype": "text/x-python",
   "name": "python",
   "nbconvert_exporter": "python",
   "pygments_lexer": "ipython3",
   "version": "3.6.9"
  }
 },
 "nbformat": 4,
 "nbformat_minor": 4
}
